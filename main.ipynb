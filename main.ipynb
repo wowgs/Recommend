{
 "cells": [
  {
   "cell_type": "code",
   "execution_count": 82,
   "metadata": {},
   "outputs": [],
   "source": [
    "# from pyspark import SparkContext\n",
    "# sc = SparkContext(\"local\", \"Simple App\")\n",
    "import random\n",
    "from sklearn.model_selection import KFold\n",
    "import time\n",
    "\n"
   ]
  },
  {
   "cell_type": "code",
   "execution_count": 55,
   "metadata": {},
   "outputs": [],
   "source": [
    "import numpy\n",
    "from scipy.stats import pearsonr\n",
    "\n",
    "\n",
    "num_songs = 9724\n",
    "num_users = 610\n",
    "\n",
    "\n",
    "rates = [dict() for x in range(num_users)]\n",
    "user_songs = [set() for x in  range(num_users)]\n",
    "song_users = [set() for x in range(num_songs)]\n",
    "\n",
    "pirs_songs = []\n",
    "for x in range(num_songs):\n",
    "    pirs_songs.append([-1] * num_songs)\n",
    "\n",
    "pirs_users = []\n",
    "for x in range(num_users):\n",
    "    pirs_users.append([0] * num_users)\n",
    "\n",
    "with open('new_train2.txt') as fi:\n",
    "    for line in fi:\n",
    "        user, song, rate = map(int, line.split()) \n",
    "        rates[user][song] = rate \n",
    "        user_songs[user].add(song) \n",
    "        song_users[song].add(user)\n",
    "\n",
    "        \n"
   ]
  },
  {
   "cell_type": "code",
   "execution_count": 98,
   "metadata": {},
   "outputs": [
    {
     "name": "stdout",
     "output_type": "stream",
     "text": [
      "(1.1922392878502568, 0.8749466777143068) 32.956669330596924\n",
      "(1.1864885786528758, 0.872031631737991) 33.46180701255798\n",
      "(1.1896973022744248, 0.8791783092386879) 33.367735624313354\n",
      "(1.1917008405690301, 0.8740422032297741) 33.0530424118042\n",
      "(1.1880419136984142, 0.87626910876604) 33.21451020240784\n"
     ]
    }
   ],
   "source": [
    "import math\n",
    "k = 10\n",
    "\n",
    "def gogo(train_file, test_file, num_songs, num_users):\n",
    "    \n",
    "    rates = [dict() for x in range(num_users)]\n",
    "    user_songs = [set() for x in  range(num_users)]\n",
    "    song_users = [set() for x in range(num_songs)]\n",
    "\n",
    "    pirs_songs = []\n",
    "    for x in range(num_songs):\n",
    "        pirs_songs.append([-1] * num_songs)\n",
    "\n",
    "    pirs_users = []\n",
    "    for x in range(num_users):\n",
    "        pirs_users.append([0] * num_users)\n",
    "        \n",
    "    songs_rates = []\n",
    "    for x in range(num_songs):\n",
    "        songs_rates.append([])\n",
    "\n",
    "    with open(train_file) as fi:\n",
    "        for line in fi:\n",
    "            user, song, rate = map(int, line.split()) \n",
    "            rates[user][song] = rate \n",
    "            user_songs[user].add(song) \n",
    "            song_users[song].add(user)\n",
    "            songs_rates[song].append(rate)\n",
    "            \n",
    "    songs_mean = [0] * num_songs\n",
    "    for x in range(num_songs):\n",
    "        l = len(songs_rates[x])\n",
    "        if l > 0:\n",
    "            songs_mean[x] = sum(songs_rates[x]) / l\n",
    "        else:\n",
    "            songs_mean[x] = 0\n",
    "    \n",
    "    \n",
    "    songs_dev = [0] * num_songs\n",
    "    for x in range(num_songs):\n",
    "        s = 0\n",
    "        for y in songs_rates[x]:\n",
    "            s += (y - songs_mean[x]) ** 2\n",
    "        \n",
    "        if s == 0:\n",
    "            break\n",
    "        songs_dev[x] = (s / (len(songs_rates[x]) - 1)) ** 0.5\n",
    "        \n",
    "    \n",
    "                    \n",
    "    \n",
    "\n",
    "    def get_mean_song(subs, i):\n",
    "        a = 0\n",
    "        for x in subs:\n",
    "            a += rates[x][i]\n",
    "        return a / len(subs)\n",
    "\n",
    "    def get_mean_user(subs, u):\n",
    "        a = 0\n",
    "        for x in subs:\n",
    "            a += rates[u][x]\n",
    "        return a / len(subs)\n",
    "\n",
    "\n",
    "    def get_pirs_song(i, j):\n",
    "\n",
    "        subs = list(song_users[i] & song_users[j])\n",
    "\n",
    "        if len(subs) < 2 or i == j:\n",
    "            return 0\n",
    "\n",
    "        top = 0\n",
    "        down_i = 0\n",
    "        down_j = 0\n",
    "\n",
    "        i_m = get_mean_song(subs, i) \n",
    "        j_m = get_mean_song(subs, j)\n",
    "\n",
    "\n",
    "        for user in subs:\n",
    "            a = rates[user][i]\n",
    "            b = rates[user][j]\n",
    "            tmp_i = a - i_m\n",
    "            tmp_j = b - j_m\n",
    "            top += tmp_i * tmp_j\n",
    "            down_i += tmp_i ** 2\n",
    "            down_j += tmp_j ** 2\n",
    "\n",
    "        try:\n",
    "            return top / ((down_i * down_j) ** 0.5)\n",
    "        except:\n",
    "    #         print(i, j, [x for x in subs])\n",
    "            return 0\n",
    "\n",
    "    def get_pirs_user(u, v):\n",
    "\n",
    "        subs = list(user_songs[u] & user_songs[v])\n",
    "        if len(subs) < 2 or u == v:\n",
    "            return 0\n",
    "\n",
    "        top = 0\n",
    "        down_u = 0\n",
    "        down_v = 0\n",
    "\n",
    "        u_m = get_mean_user(subs, u) \n",
    "        v_m = get_mean_user(subs, v)\n",
    "\n",
    "\n",
    "        for song in subs:\n",
    "            a = rates[u][song]\n",
    "            b = rates[v][song]\n",
    "            tmp_u = a - u_m\n",
    "            tmp_v = b - v_m\n",
    "            top += tmp_u * tmp_v\n",
    "            down_u += tmp_u ** 2\n",
    "            down_v += tmp_v ** 2\n",
    "\n",
    "        try:\n",
    "            return top / ((down_u * down_v) ** 0.5)\n",
    "        except:\n",
    "    #         print(u, v, [x for x in subs])\n",
    "            return 0\n",
    "\n",
    "    def res_item(u, i):\n",
    "        res = songs_mean[i]\n",
    "        \n",
    "        tmp = [(x, get_pirs_song(x, i)) for x in user_songs[u]]\n",
    "        tmp.sort(key=lambda x: x[1], reverse=True)\n",
    "        tmp = tmp[:k]\n",
    "\n",
    "        top = 0\n",
    "        down = 0\n",
    "        for x in tmp:\n",
    "            dev_tmp = songs_dev[x[0]]\n",
    "            dev_tmp = 1 if dev_tmp == 0 else dev_tmp\n",
    "            top += x[1] * (rates[u][x[0]] - songs_mean[x[0]]) / dev_tmp\n",
    "            down += abs(x[1])\n",
    "        \n",
    "        if down != 0:\n",
    "            return res + songs_dev[i] * top / down\n",
    "        else:\n",
    "            return res\n",
    "        \n",
    "        \n",
    "    users = set()\n",
    "    songs = set()\n",
    "    test_len = 0\n",
    "    rmse = 0\n",
    "    mae = 0\n",
    "    with open(test_file) as fi:\n",
    "        for x in fi:\n",
    "            test_len += 1\n",
    "            user, song, val = map(int, x.split())\n",
    "            users.add(user)\n",
    "            songs.add(song)\n",
    "            q = res_item(user, song)\n",
    "            \n",
    "            rmse += (q - val) ** 2\n",
    "            mae += abs(q - val)\n",
    "            \n",
    "    rmse /= test_len\n",
    "    rmse = rmse ** 0.5\n",
    "    \n",
    "    mae /= test_len\n",
    "    \n",
    "    \n",
    "    for user in users:\n",
    "        for song in songs:\n",
    "            pass\n",
    "    \n",
    "    return (rmse, mae)\n",
    "    \n",
    "    \n",
    "    \n",
    "data = []\n",
    "with open('new_train2.txt') as fi:\n",
    "    for x in fi:\n",
    "        data.append(x.rstrip())\n",
    "\n",
    "\n",
    "kf = KFold(5, True, 1)\n",
    "for train, test in kf.split(data):\n",
    "#     users = set()\n",
    "#     songs = set()\n",
    "    with open('train_tmp.txt', 'w') as fo:\n",
    "        for x in train:\n",
    "            print(data[x], file=fo)\n",
    "#             user, song, _ = data[x].split()\n",
    "#             users.add(user)\n",
    "#             songs.add(song)\n",
    "    with open('test_tmp.txt', 'w') as fo:\n",
    "        for x in test:\n",
    "            print(data[x], file=fo)\n",
    "            \n",
    "    time_s = time.time()\n",
    "    print(gogo('train_tmp.txt', 'test_tmp.txt', 9724, 610), end=' ')\n",
    "    print(time.time() - time_s)\n",
    "    \n",
    "    \n",
    "    \n",
    "\n",
    "\n",
    "    "
   ]
  },
  {
   "cell_type": "code",
   "execution_count": null,
   "metadata": {},
   "outputs": [],
   "source": []
  },
  {
   "cell_type": "code",
   "execution_count": 71,
   "metadata": {},
   "outputs": [
    {
     "name": "stdout",
     "output_type": "stream",
     "text": [
      "0 4 4.541457626265035\n",
      "1 4 4.4071973254045655\n",
      "2 4 4.183525518280833\n",
      "3 5 4.591878477757143\n",
      "4 5 4.582893915625734\n",
      "5 3 3.2612632671909427\n",
      "6 5 5.0\n",
      "7 4 4.245079406741627\n",
      "8 5 4.8\n",
      "9 5 4.8\n",
      "10 5 4.6\n",
      "11 5 4.8\n",
      "12 3 3.696607550482351\n",
      "13 5 4.795450449395095\n",
      "14 4 3.4163057716211047\n",
      "15 5 3.880080673231601\n",
      "16 3 4.38512482770501\n",
      "17 3 4.019567625648888\n",
      "18 5 4.8\n",
      "19 4 4.2\n"
     ]
    }
   ],
   "source": [
    "for x in range(20):\n",
    "    try:\n",
    "        print(x, rates[0][x], res_item(0, x))\n",
    "    except:\n",
    "        pass\n",
    "    \n",
    "\n",
    "#rint([x for x in user_songs[0]])"
   ]
  },
  {
   "cell_type": "code",
   "execution_count": 65,
   "metadata": {},
   "outputs": [
    {
     "name": "stdout",
     "output_type": "stream",
     "text": [
      "610\n"
     ]
    }
   ],
   "source": [
    "#print([x for x in user_songs[]])\n",
    "print(len(rates))"
   ]
  },
  {
   "cell_type": "code",
   "execution_count": null,
   "metadata": {},
   "outputs": [],
   "source": [
    "pirs_songs = pirs_songs.map(lambda x: list(map()))"
   ]
  },
  {
   "cell_type": "code",
   "execution_count": 95,
   "metadata": {
    "scrolled": true
   },
   "outputs": [],
   "source": [
    "# s = 0\n",
    "# g = 0\n",
    "# f = 0\n",
    "\n",
    "    \n",
    "for x in range(num_users):\n",
    "    pirs_users[x][x] = -2\n",
    "    for y in range(x + 1, num_users):\n",
    "        f += 1\n",
    "        pirs = get_pirs_user(x, y)\n",
    "        pirs_users[x][y] = pirs\n",
    "        pirs_users[y][x] = pirs\n",
    "            \n",
    "#         if -1 <= pirs <= 1:\n",
    "#             g += 1\n",
    "#         else:\n",
    "#             s += 1\n",
    "        \n",
    "        \n",
    "            \n",
    "\n",
    "        \n"
   ]
  },
  {
   "cell_type": "code",
   "execution_count": 94,
   "metadata": {},
   "outputs": [
    {
     "name": "stdout",
     "output_type": "stream",
     "text": [
      "186050 57787 127958 371490 185745\n"
     ]
    }
   ],
   "source": [
    "# print(rates[946][18], rates[946][237])\n",
    "# print(rates[932][18], rates[932][237])\n",
    "s\n",
    "print(610 * 610 // 2, s, g, f, s + g)"
   ]
  },
  {
   "cell_type": "code",
   "execution_count": 36,
   "metadata": {},
   "outputs": [
    {
     "name": "stdout",
     "output_type": "stream",
     "text": [
      "(nan, nan)\n",
      "nan\n"
     ]
    }
   ],
   "source": [
    "from scipy.stats import pearsonr\n",
    "import numpy\n",
    "\n",
    "i, j = 1, 11\n",
    "subs = song_users[i] & song_users[j]\n",
    "ar1 = [rates[x][i] for x in subs]\n",
    "ar2 = [rates[x][j] for x in subs]\n",
    "print(pearsonr(ar1, ar2))\n",
    "print(numpy.corrcoef(ar1, ar2)[0, 1])"
   ]
  },
  {
   "cell_type": "code",
   "execution_count": 97,
   "metadata": {},
   "outputs": [],
   "source": [
    "from pyspark import SparkContext\n",
    "sc = SparkContext(\"local\", \"Simple App\")\n",
    "data = sc.textFile('new_train2.txt')"
   ]
  },
  {
   "cell_type": "code",
   "execution_count": 106,
   "metadata": {},
   "outputs": [],
   "source": [
    "data = data.map(lambda x: list(map(int, x.split())))"
   ]
  },
  {
   "cell_type": "code",
   "execution_count": 108,
   "metadata": {},
   "outputs": [
    {
     "name": "stdout",
     "output_type": "stream",
     "text": [
      "[609, 9723, 3]\n",
      "[609, 9722, 3]\n",
      "[609, 9721, 3]\n",
      "[609, 9720, 4]\n",
      "[609, 9719, 2]\n",
      "[609, 9718, 3]\n",
      "[609, 9717, 3]\n",
      "[609, 9716, 3]\n",
      "[609, 9715, 3]\n",
      "[609, 9714, 3]\n"
     ]
    }
   ],
   "source": [
    "for x in data.top(10):\n",
    "    print(x)"
   ]
  },
  {
   "cell_type": "code",
   "execution_count": null,
   "metadata": {},
   "outputs": [],
   "source": []
  }
 ],
 "metadata": {
  "kernelspec": {
   "display_name": "Python 3",
   "language": "python",
   "name": "python3"
  },
  "language_info": {
   "codemirror_mode": {
    "name": "ipython",
    "version": 3
   },
   "file_extension": ".py",
   "mimetype": "text/x-python",
   "name": "python",
   "nbconvert_exporter": "python",
   "pygments_lexer": "ipython3",
   "version": "3.7.1"
  }
 },
 "nbformat": 4,
 "nbformat_minor": 2
}
