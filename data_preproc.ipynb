{
 "cells": [
  {
   "cell_type": "code",
   "execution_count": 7,
   "metadata": {},
   "outputs": [],
   "source": [
    "import random\n",
    "\n",
    "num_users = 1500\n",
    "\n",
    "with open('kaggle_users.txt') as fi:\n",
    "    users = [line.rstrip() for line in fi]\n",
    "\n",
    "random.shuffle(users)\n",
    "users = users[:num_users]\n",
    "\n",
    "# with open('kaggle_songs.txt') as fi:\n",
    "#     songs = [line.split()[0] for line in fi]\n",
    "\n",
    "# with open('train_triplets.txt') as fi:\n",
    "#     users = [line.split()[0] for line in fi]\n",
    "# random.shuffle(users)\n",
    "# users = users[:num_users]\n",
    "\n",
    "users = set(users)\n",
    "songs = set()\n",
    "\n",
    "s = 0\n",
    "name_fi = 'kaggle_visible_evaluation_triplets.txt'\n",
    "with open(name_fi) as fi, open('new_train.txt', 'w') as fo:\n",
    "    for x in fi:\n",
    "        tmp = x.split()\n",
    "        if tmp[0] in users:\n",
    "            s += 1\n",
    "            songs.add(tmp[1])\n",
    "            fo.write(x)"
   ]
  },
  {
   "cell_type": "code",
   "execution_count": 12,
   "metadata": {},
   "outputs": [
    {
     "name": "stdout",
     "output_type": "stream",
     "text": [
      "1000\n",
      "8960\n",
      "9414\n"
     ]
    }
   ],
   "source": [
    "import random\n",
    "\n",
    "num_songs = 1000\n",
    "name_fi = 'kaggle_visible_evaluation_triplets.txt'\n",
    "\n",
    "# with open('kaggle_songs.txt') as fi:\n",
    "#     songs = [line.split()[0] for line in fi]\n",
    "songs = set()\n",
    "with open(name_fi) as fi:\n",
    "    for x in fi:\n",
    "        songs.add(x.split()[1])\n",
    "songs = list(songs)\n",
    "\n",
    "num_songs2 = len(songs)\n",
    "    \n",
    "\n",
    "random.shuffle(songs)\n",
    "songs = songs[:num_songs]\n",
    "songs = set(songs)\n",
    "\n",
    "users = set()\n",
    "\n",
    "s = 0\n",
    "\n",
    "with open(name_fi) as fi, open('new_train.txt', 'w') as fo:\n",
    "    for x in fi:\n",
    "        tmp = x.split()\n",
    "        if tmp[1] in songs:\n",
    "            s += 1\n",
    "            users.add(tmp[0])\n",
    "            fo.write(x)\n",
    "\n",
    "print(len(songs))\n",
    "print(len(users))\n",
    "print(s)"
   ]
  },
  {
   "cell_type": "code",
   "execution_count": 3,
   "metadata": {},
   "outputs": [],
   "source": [
    "import pandas as pd\n",
    "import numpy as np\n",
    "data = pd.read_csv('ml-latest-small/ratings.csv')\n",
    "with open('new_train.txt', 'w') as fo:\n",
    "    for i, x in data.iterrows():\n",
    "        print(int(x.userId), int(x.movieId), int(x.rating), file=fo)"
   ]
  },
  {
   "cell_type": "code",
   "execution_count": 8,
   "metadata": {},
   "outputs": [
    {
     "name": "stdout",
     "output_type": "stream",
     "text": [
      "1500 12936\n"
     ]
    }
   ],
   "source": [
    "users = dict()\n",
    "songs = dict()\n",
    "\n",
    "with open('new_train.txt') as fi, open('new_train2.txt', 'w') as fo:\n",
    "    for x in fi:\n",
    "        tmp = x.split()\n",
    "        if tmp[0] not in users:\n",
    "            a = len(users)\n",
    "            users[tmp[0]] = a\n",
    "        else:\n",
    "            a = users[tmp[0]]\n",
    "\n",
    "        if tmp[1] not in songs:\n",
    "            b = len(songs)\n",
    "            songs[tmp[1]] = b\n",
    "        else:\n",
    "            b = songs[tmp[1]]\n",
    "\n",
    "        print(a, b, tmp[2], file=fo)\n",
    "\n",
    "print(len(users), len(songs))"
   ]
  },
  {
   "cell_type": "code",
   "execution_count": 105,
   "metadata": {},
   "outputs": [],
   "source": [
    "# users = set(users)\n",
    "# songs = set()"
   ]
  },
  {
   "cell_type": "code",
   "execution_count": null,
   "metadata": {},
   "outputs": [],
   "source": []
  },
  {
   "cell_type": "code",
   "execution_count": 106,
   "metadata": {},
   "outputs": [],
   "source": [
    "# s = 0\n",
    "# name_fi = 'kaggle_visible_evaluation_triplets.txt'\n",
    "# with open(name_fi) as fi, open('new_train.txt', 'w') as fo:\n",
    "#     for x in fi:\n",
    "#         tmp = x.split()\n",
    "#         if tmp[0] in users:\n",
    "#             s += 1\n",
    "#             songs.add(tmp[1])\n",
    "#             fo.write(x)\n",
    "            \n"
   ]
  },
  {
   "cell_type": "code",
   "execution_count": 8,
   "metadata": {},
   "outputs": [
    {
     "name": "stdout",
     "output_type": "stream",
     "text": [
      "b80344d063b5ccb3212f76538f3d9e43d87dca9e\tSOAKIMP12A8C130995\t1\n",
      "\n"
     ]
    }
   ],
   "source": [
    "# with open('train_triplets.txt') as fi:\n",
    "#     print(fi.readline())"
   ]
  },
  {
   "cell_type": "code",
   "execution_count": 55,
   "metadata": {},
   "outputs": [
    {
     "data": {
      "text/plain": [
       "0"
      ]
     },
     "execution_count": 55,
     "metadata": {},
     "output_type": "execute_result"
    }
   ],
   "source": [
    "len(user_set)"
   ]
  },
  {
   "cell_type": "code",
   "execution_count": 107,
   "metadata": {},
   "outputs": [
    {
     "data": {
      "text/plain": [
       "9727"
      ]
     },
     "execution_count": 107,
     "metadata": {},
     "output_type": "execute_result"
    }
   ],
   "source": [
    "len(songs)"
   ]
  },
  {
   "cell_type": "code",
   "execution_count": 108,
   "metadata": {},
   "outputs": [
    {
     "data": {
      "text/plain": [
       "13402"
      ]
     },
     "execution_count": 108,
     "metadata": {},
     "output_type": "execute_result"
    }
   ],
   "source": [
    "s"
   ]
  },
  {
   "cell_type": "code",
   "execution_count": 23,
   "metadata": {},
   "outputs": [
    {
     "name": "stdout",
     "output_type": "stream",
     "text": [
      "1019318 384546\n"
     ]
    }
   ],
   "source": [
    "users = dict()\n",
    "songs = dict()\n",
    "\n",
    "with open('train_triplets.txt') as fi, open('new_train2.txt', 'w') as fo:\n",
    "    for x in fi:\n",
    "        tmp = x.split()\n",
    "        if tmp[0] not in users:\n",
    "            a = len(users)\n",
    "            users[tmp[0]] = a\n",
    "        else:\n",
    "            a = users[tmp[0]]\n",
    "\n",
    "        if tmp[1] not in songs:\n",
    "            b = len(songs)\n",
    "            songs[tmp[1]] = b\n",
    "        else:\n",
    "            b = songs[tmp[1]]\n",
    "\n",
    "        print(a, b, tmp[2], file=fo)\n",
    "print(len(users), len(songs))"
   ]
  },
  {
   "cell_type": "code",
   "execution_count": null,
   "metadata": {},
   "outputs": [],
   "source": [
    "with open('new_train2.txt') as fi:\n",
    "    for x in range(100):\n",
    "        print(fi.readline())"
   ]
  },
  {
   "cell_type": "code",
   "execution_count": null,
   "metadata": {},
   "outputs": [],
   "source": []
  }
 ],
 "metadata": {
  "kernelspec": {
   "display_name": "Python 3",
   "language": "python",
   "name": "python3"
  },
  "language_info": {
   "codemirror_mode": {
    "name": "ipython",
    "version": 3
   },
   "file_extension": ".py",
   "mimetype": "text/x-python",
   "name": "python",
   "nbconvert_exporter": "python",
   "pygments_lexer": "ipython3",
   "version": "3.7.1"
  }
 },
 "nbformat": 4,
 "nbformat_minor": 2
}
